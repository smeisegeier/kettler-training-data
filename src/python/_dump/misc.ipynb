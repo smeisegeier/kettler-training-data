{
 "cells": [
  {
   "cell_type": "markdown",
   "metadata": {},
   "source": [
    "# misc"
   ]
  },
  {
   "cell_type": "markdown",
   "metadata": {},
   "source": [
    "## option streak days"
   ]
  },
  {
   "cell_type": "code",
   "execution_count": null,
   "metadata": {},
   "outputs": [],
   "source": [
    "import warnings\n",
    "import pandas as pd\n",
    "\n",
    "warnings.simplefilter(action=\"ignore\")\n",
    "\n",
    "# * copy table, must be sorted by TrainingDateTime\n",
    "_df = (\n",
    "    df_training.sort_values(\"TrainingDateTime\")\n",
    "    .reset_index()[[\"Id\", \"TrainingDateTime\", \"Streak_days\"]]\n",
    "    .copy()\n",
    ")\n",
    "# * ensure index starts at 1\n",
    "_df.index += 1\n",
    "\n",
    "# * convert to proper datetime\n",
    "_df[\"training_date\"] = pd.to_datetime(_df.TrainingDateTime).dt.date.astype(\"datetime64\")\n",
    "\n",
    "# * add gap in days between training of two consecutive records\n",
    "_df[\"gap\"] = (\n",
    "    (_df[\"training_date\"] - _df.shift(1)[\"training_date\"])\n",
    "    # .dt.days                              # convert to number\n",
    "    # .astype('Int16')                      # use Int type to handle nulls\n",
    "    # .fillna(dt.timedelta(days=9999))  # fill nulls to include first item\n",
    ")\n",
    "\n",
    "# * filter records with gap > 1 to only show streak starts\n",
    "_df2 = _df[(_df[\"gap\"]).dt.days > 1]\n",
    "\n",
    "# * use date from previous record as start date\n",
    "_df2[\"date_start\"] = _df2.shift(1)[\"training_date\"]\n",
    "\n",
    "# * leap back in time before the gap\n",
    "_df2[\"date_end\"] = _df2[\"training_date\"] - _df2[\"gap\"]\n",
    "\n",
    "# * calculate streak as date difference\n",
    "_df2[\"streak\"] = ((_df2[\"date_end\"] - _df2[\"date_start\"]).dt.days + 1).astype(\"Int16\")\n",
    "\n",
    "_df2.sort_values(by='streak', ascending=False)"
   ]
  }
 ],
 "metadata": {
  "language_info": {
   "name": "python"
  }
 },
 "nbformat": 4,
 "nbformat_minor": 2
}
