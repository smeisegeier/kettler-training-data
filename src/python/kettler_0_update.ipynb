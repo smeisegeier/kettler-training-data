{
 "cells": [
  {
   "cell_type": "code",
   "execution_count": 1,
   "metadata": {},
   "outputs": [],
   "source": [
    "import os\n",
    "from dotenv import load_dotenv\n",
    "import pandas as pd\n",
    "from pathlib import Path\n",
    "\n",
    "dir_project=Path(os.getcwd()).parent.parent\n",
    "\n",
    "# * check if .env file exists\n",
    "\n",
    "assert os.path.exists(dir_project/'.env'), '.env file not found'\n",
    "load_dotenv(dir_project/'.env')\n",
    "\n",
    "pd.options.display.max_rows = 100\n",
    "pd.options.display.max_colwidth = 160"
   ]
  },
  {
   "cell_type": "code",
   "execution_count": 2,
   "metadata": {},
   "outputs": [
    {
     "name": "stdout",
     "output_type": "stream",
     "text": [
      "trainings shape:(1103, 14)\n",
      "records shape:(214388, 8)\n"
     ]
    }
   ],
   "source": [
    "#\n",
    "# ! sqlalchemy must be <v2 to write -> sql\n",
    "from sqlalchemy import text\n",
    "import datetime as dt\n",
    "import requests\n",
    "\n",
    "# * get module for sql access\n",
    "exec(requests.get(\n",
    "    'https://gist.githubusercontent.com/smeisegeier/f3ba0f34d2a7831c090177ec36d447b8/raw'\n",
    "    ).text)\n",
    "\n",
    "# * load sql qrys\n",
    "with open('sql/qry_trainings.sql') as f:\n",
    "    qry_trainings = f.read()\n",
    "with open('sql/qry_records.sql') as f:\n",
    "    qry_records = f.read()\n",
    "\n",
    "con = my_connect_to_any_sql(\n",
    "    host=os.getenv('AZURE_HOST'),\n",
    "    db=os.getenv('AZURE_DB'),\n",
    "    user=os.getenv('AZURE_USER'),\n",
    "    pw=os.getenv('AZURE_PW'),\n",
    ")\n",
    "\n",
    "df_trainings = pd.read_sql(text(qry_trainings), con)\n",
    "df_records= pd.read_sql(text(qry_records), con)\n",
    "\n",
    "print(f\"trainings shape:{df_trainings.shape}\")\n",
    "print(f\"records shape:{df_records.shape}\")"
   ]
  },
  {
   "cell_type": "code",
   "execution_count": 4,
   "metadata": {},
   "outputs": [],
   "source": [
    "df_trainings.to_parquet('data/trainings.pq')\n",
    "df_records.to_parquet('data/records.pq')"
   ]
  }
 ],
 "metadata": {
  "kernelspec": {
   "display_name": "base",
   "language": "python",
   "name": "python3"
  },
  "language_info": {
   "codemirror_mode": {
    "name": "ipython",
    "version": 3
   },
   "file_extension": ".py",
   "mimetype": "text/x-python",
   "name": "python",
   "nbconvert_exporter": "python",
   "pygments_lexer": "ipython3",
   "version": "3.10.12"
  }
 },
 "nbformat": 4,
 "nbformat_minor": 2
}
