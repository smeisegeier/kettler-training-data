{
 "cells": [
  {
   "cell_type": "code",
   "execution_count": 1,
   "metadata": {},
   "outputs": [
    {
     "name": "stdout",
     "output_type": "stream",
     "text": [
      "sqlalchemy version: 2.0.28\n"
     ]
    }
   ],
   "source": [
    "import os\n",
    "from dotenv import load_dotenv\n",
    "import pandas as pd\n",
    "from pathlib import Path\n",
    "import sqlalchemy\n",
    "from sqlalchemy import text\n",
    "import datetime as dt\n",
    "from connection_helper import sql\n",
    "\n",
    "dir_project=Path(os.getcwd()).parent.parent\n",
    "\n",
    "# * check if .env file exists\n",
    "assert os.path.exists(dir_project/'.env'), '.env file not found'\n",
    "load_dotenv(dir_project/'.env')\n",
    "\n",
    "pd.options.display.max_rows = 100\n",
    "pd.options.display.max_colwidth = 160"
   ]
  },
  {
   "cell_type": "code",
   "execution_count": 2,
   "metadata": {},
   "outputs": [],
   "source": [
    "# with open('sql/qry_trainings.sql') as f:\n",
    "#     qry_trainings = f.read()\n",
    "# with open('sql/qry_records.sql') as f:\n",
    "#     qry_records = f.read()\n",
    "\n",
    "con = sql.connect_sql(\n",
    "    host=os.getenv('AZURE_HOST'),\n",
    "    db=os.getenv('AZURE_DB'),\n",
    "    user=os.getenv('AZURE_USER'),\n",
    "    pw=os.getenv('AZURE_PW'),\n",
    "    dbms='mssql',\n",
    ")\n"
   ]
  },
  {
   "cell_type": "code",
   "execution_count": 6,
   "metadata": {},
   "outputs": [
    {
     "name": "stdout",
     "output_type": "stream",
     "text": [
      "records shape:(220875, 8)\n"
     ]
    }
   ],
   "source": [
    "\n",
    "df_trainings = pd.read_sql_table('Trainings', con=con, schema='kettler')\n",
    "df_records = pd.read_sql_table('Records', con=con, schema='kettler')\n",
    "\n",
    "print(f\"trainings shape:{df_trainings.shape}\")\n",
    "print(f\"records shape:{df_records.shape}\")"
   ]
  },
  {
   "cell_type": "code",
   "execution_count": 8,
   "metadata": {},
   "outputs": [],
   "source": [
    "df_trainings.to_parquet('data/trainings.pq')\n",
    "df_records.to_parquet('data/records.pq')"
   ]
  }
 ],
 "metadata": {
  "kernelspec": {
   "display_name": "base",
   "language": "python",
   "name": "python3"
  },
  "language_info": {
   "codemirror_mode": {
    "name": "ipython",
    "version": 3
   },
   "file_extension": ".py",
   "mimetype": "text/x-python",
   "name": "python",
   "nbconvert_exporter": "python",
   "pygments_lexer": "ipython3",
   "version": "3.12.2"
  }
 },
 "nbformat": 4,
 "nbformat_minor": 2
}
