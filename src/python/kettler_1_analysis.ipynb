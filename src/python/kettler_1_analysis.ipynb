{
 "cells": [
  {
   "cell_type": "markdown",
   "metadata": {},
   "source": [
    "# kettler analysis"
   ]
  },
  {
   "cell_type": "code",
   "execution_count": 1,
   "metadata": {},
   "outputs": [],
   "source": [
    "import os\n",
    "import sys\n",
    "import pandas as pd\n",
    "from pathlib import Path\n",
    "from textwrap import wrap\n",
    "import plotly.express as px\n",
    "import datetime as dt\n",
    "import requests\n",
    "exec(requests.get(\n",
    "    'https://gist.githubusercontent.com/smeisegeier/4944b9a88b7a90cb1b2acc6da0dd906f/raw/'\n",
    "    ).text)\n",
    "\n",
    "# * get src directory which *must* be parent\n",
    "dir_src = Path(os.getcwd()).parent.parent\n",
    "\n",
    "# # * add to path\n",
    "# if dir_src.as_posix() not in sys.path:\n",
    "#     sys.path.append(dir_src.as_posix())\n",
    "\n",
    "# * display / style settings\n",
    "pd.options.display.max_rows = 100\n",
    "pd.options.display.max_colwidth = 160\n",
    "pd.options.display.precision = 2\n",
    "\n",
    "\n",
    "# * theme settings\n",
    "THEME = \"dark\" # 'light'\n",
    "\n",
    "if THEME == 'dark':\n",
    "    THEME_PLOTLY=\"plotly_dark\"\n",
    "else:\n",
    "    THEME_PLOTLY=\"plotly\""
   ]
  },
  {
   "cell_type": "code",
   "execution_count": 2,
   "metadata": {},
   "outputs": [],
   "source": [
    "df_training=pd.read_parquet('data/trainings.pq')\n",
    "df_records=pd.read_parquet('data/records.pq')"
   ]
  },
  {
   "cell_type": "markdown",
   "metadata": {},
   "source": [
    "## training"
   ]
  },
  {
   "cell_type": "code",
   "execution_count": 3,
   "metadata": {},
   "outputs": [
    {
     "data": {
      "text/html": [
       "<div>\n",
       "<style scoped>\n",
       "    .dataframe tbody tr th:only-of-type {\n",
       "        vertical-align: middle;\n",
       "    }\n",
       "\n",
       "    .dataframe tbody tr th {\n",
       "        vertical-align: top;\n",
       "    }\n",
       "\n",
       "    .dataframe thead th {\n",
       "        text-align: right;\n",
       "    }\n",
       "</style>\n",
       "<table border=\"1\" class=\"dataframe\">\n",
       "  <thead>\n",
       "    <tr style=\"text-align: right;\">\n",
       "      <th></th>\n",
       "      <th>#</th>\n",
       "      <th>Column</th>\n",
       "      <th>Non-Null</th>\n",
       "      <th>Count</th>\n",
       "      <th>Dtype</th>\n",
       "      <th>Uni_Count</th>\n",
       "      <th>Nulls</th>\n",
       "      <th>Most_Frequent</th>\n",
       "      <th>skew</th>\n",
       "      <th>kurto</th>\n",
       "      <th>mean</th>\n",
       "      <th>min</th>\n",
       "      <th>25%</th>\n",
       "      <th>50%</th>\n",
       "      <th>75%</th>\n",
       "      <th>max</th>\n",
       "      <th>std</th>\n",
       "    </tr>\n",
       "  </thead>\n",
       "  <tbody>\n",
       "    <tr>\n",
       "      <th>0</th>\n",
       "      <td>0</td>\n",
       "      <td>Id</td>\n",
       "      <td>1103</td>\n",
       "      <td>non-null</td>\n",
       "      <td>int64</td>\n",
       "      <td>1103</td>\n",
       "      <td>0</td>\n",
       "      <td>1 | 1</td>\n",
       "      <td>-0.002</td>\n",
       "      <td>-1.198</td>\n",
       "      <td>554.9</td>\n",
       "      <td>1.0</td>\n",
       "      <td>279.5</td>\n",
       "      <td>555.0</td>\n",
       "      <td>830.5</td>\n",
       "      <td>1106.0</td>\n",
       "      <td>318.71</td>\n",
       "    </tr>\n",
       "    <tr>\n",
       "      <th>1</th>\n",
       "      <td>1</td>\n",
       "      <td>Device</td>\n",
       "      <td>1103</td>\n",
       "      <td>non-null</td>\n",
       "      <td>object</td>\n",
       "      <td>1</td>\n",
       "      <td>0</td>\n",
       "      <td>SJ10X SKYLON 5 | 1103</td>\n",
       "      <td>NaN</td>\n",
       "      <td>NaN</td>\n",
       "      <td>NaN</td>\n",
       "      <td>NaN</td>\n",
       "      <td>NaN</td>\n",
       "      <td>NaN</td>\n",
       "      <td>NaN</td>\n",
       "      <td>NaN</td>\n",
       "      <td>NaN</td>\n",
       "    </tr>\n",
       "    <tr>\n",
       "      <th>2</th>\n",
       "      <td>2</td>\n",
       "      <td>Calibration</td>\n",
       "      <td>1103</td>\n",
       "      <td>non-null</td>\n",
       "      <td>object</td>\n",
       "      <td>1</td>\n",
       "      <td>0</td>\n",
       "      <td>07655-350-2007 | 1103</td>\n",
       "      <td>NaN</td>\n",
       "      <td>NaN</td>\n",
       "      <td>NaN</td>\n",
       "      <td>NaN</td>\n",
       "      <td>NaN</td>\n",
       "      <td>NaN</td>\n",
       "      <td>NaN</td>\n",
       "      <td>NaN</td>\n",
       "      <td>NaN</td>\n",
       "    </tr>\n",
       "    <tr>\n",
       "      <th>3</th>\n",
       "      <td>3</td>\n",
       "      <td>Software</td>\n",
       "      <td>1103</td>\n",
       "      <td>non-null</td>\n",
       "      <td>object</td>\n",
       "      <td>1</td>\n",
       "      <td>0</td>\n",
       "      <td>3367 | 1103</td>\n",
       "      <td>NaN</td>\n",
       "      <td>NaN</td>\n",
       "      <td>NaN</td>\n",
       "      <td>NaN</td>\n",
       "      <td>NaN</td>\n",
       "      <td>NaN</td>\n",
       "      <td>NaN</td>\n",
       "      <td>NaN</td>\n",
       "      <td>NaN</td>\n",
       "    </tr>\n",
       "    <tr>\n",
       "      <th>4</th>\n",
       "      <td>4</td>\n",
       "      <td>Date</td>\n",
       "      <td>1103</td>\n",
       "      <td>non-null</td>\n",
       "      <td>object</td>\n",
       "      <td>1100</td>\n",
       "      <td>0</td>\n",
       "      <td>17.04.2021 | 3</td>\n",
       "      <td>NaN</td>\n",
       "      <td>NaN</td>\n",
       "      <td>NaN</td>\n",
       "      <td>NaN</td>\n",
       "      <td>NaN</td>\n",
       "      <td>NaN</td>\n",
       "      <td>NaN</td>\n",
       "      <td>NaN</td>\n",
       "      <td>NaN</td>\n",
       "    </tr>\n",
       "    <tr>\n",
       "      <th>5</th>\n",
       "      <td>5</td>\n",
       "      <td>Time</td>\n",
       "      <td>1103</td>\n",
       "      <td>non-null</td>\n",
       "      <td>object</td>\n",
       "      <td>1085</td>\n",
       "      <td>0</td>\n",
       "      <td>12:48:48 | 2</td>\n",
       "      <td>NaN</td>\n",
       "      <td>NaN</td>\n",
       "      <td>NaN</td>\n",
       "      <td>NaN</td>\n",
       "      <td>NaN</td>\n",
       "      <td>NaN</td>\n",
       "      <td>NaN</td>\n",
       "      <td>NaN</td>\n",
       "      <td>NaN</td>\n",
       "    </tr>\n",
       "    <tr>\n",
       "      <th>6</th>\n",
       "      <td>6</td>\n",
       "      <td>RecordIntervall</td>\n",
       "      <td>1103</td>\n",
       "      <td>non-null</td>\n",
       "      <td>object</td>\n",
       "      <td>1</td>\n",
       "      <td>0</td>\n",
       "      <td>10 | 1103</td>\n",
       "      <td>NaN</td>\n",
       "      <td>NaN</td>\n",
       "      <td>NaN</td>\n",
       "      <td>NaN</td>\n",
       "      <td>NaN</td>\n",
       "      <td>NaN</td>\n",
       "      <td>NaN</td>\n",
       "      <td>NaN</td>\n",
       "      <td>NaN</td>\n",
       "    </tr>\n",
       "    <tr>\n",
       "      <th>7</th>\n",
       "      <td>7</td>\n",
       "      <td>Transmission</td>\n",
       "      <td>1103</td>\n",
       "      <td>non-null</td>\n",
       "      <td>object</td>\n",
       "      <td>1</td>\n",
       "      <td>0</td>\n",
       "      <td>9.5 | 1103</td>\n",
       "      <td>NaN</td>\n",
       "      <td>NaN</td>\n",
       "      <td>NaN</td>\n",
       "      <td>NaN</td>\n",
       "      <td>NaN</td>\n",
       "      <td>NaN</td>\n",
       "      <td>NaN</td>\n",
       "      <td>NaN</td>\n",
       "      <td>NaN</td>\n",
       "    </tr>\n",
       "    <tr>\n",
       "      <th>8</th>\n",
       "      <td>8</td>\n",
       "      <td>Energy</td>\n",
       "      <td>1103</td>\n",
       "      <td>non-null</td>\n",
       "      <td>object</td>\n",
       "      <td>1</td>\n",
       "      <td>0</td>\n",
       "      <td>6.0 | 1103</td>\n",
       "      <td>NaN</td>\n",
       "      <td>NaN</td>\n",
       "      <td>NaN</td>\n",
       "      <td>NaN</td>\n",
       "      <td>NaN</td>\n",
       "      <td>NaN</td>\n",
       "      <td>NaN</td>\n",
       "      <td>NaN</td>\n",
       "      <td>NaN</td>\n",
       "    </tr>\n",
       "    <tr>\n",
       "      <th>9</th>\n",
       "      <td>9</td>\n",
       "      <td>TrainingDateTime</td>\n",
       "      <td>1103</td>\n",
       "      <td>non-null</td>\n",
       "      <td>object</td>\n",
       "      <td>1102</td>\n",
       "      <td>0</td>\n",
       "      <td>2016-07-15T18:23:31+01:00 | 2</td>\n",
       "      <td>NaN</td>\n",
       "      <td>NaN</td>\n",
       "      <td>NaN</td>\n",
       "      <td>NaN</td>\n",
       "      <td>NaN</td>\n",
       "      <td>NaN</td>\n",
       "      <td>NaN</td>\n",
       "      <td>NaN</td>\n",
       "      <td>NaN</td>\n",
       "    </tr>\n",
       "    <tr>\n",
       "      <th>10</th>\n",
       "      <td>10</td>\n",
       "      <td>FileName</td>\n",
       "      <td>1103</td>\n",
       "      <td>non-null</td>\n",
       "      <td>object</td>\n",
       "      <td>1103</td>\n",
       "      <td>0</td>\n",
       "      <td>Training 11.01.2014 20h09m26s.xml | 1</td>\n",
       "      <td>NaN</td>\n",
       "      <td>NaN</td>\n",
       "      <td>NaN</td>\n",
       "      <td>NaN</td>\n",
       "      <td>NaN</td>\n",
       "      <td>NaN</td>\n",
       "      <td>NaN</td>\n",
       "      <td>NaN</td>\n",
       "      <td>NaN</td>\n",
       "    </tr>\n",
       "    <tr>\n",
       "      <th>11</th>\n",
       "      <td>11</td>\n",
       "      <td>CreatedAt</td>\n",
       "      <td>1103</td>\n",
       "      <td>non-null</td>\n",
       "      <td>datetime64[ns]</td>\n",
       "      <td>42</td>\n",
       "      <td>0</td>\n",
       "      <td>2021-01-08 00:38:14.296766 | 134</td>\n",
       "      <td>NaN</td>\n",
       "      <td>NaN</td>\n",
       "      <td>2021-06-28 16:47:45.147180032</td>\n",
       "      <td>2021-01-07 23:58:46.053121</td>\n",
       "      <td>2021-01-08 00:35:55.915694080</td>\n",
       "      <td>2021-01-08 00:40:59.018162944</td>\n",
       "      <td>2022-01-18 11:20:47.755098880</td>\n",
       "      <td>2023-11-11 13:28:59.132473</td>\n",
       "      <td>NaN</td>\n",
       "    </tr>\n",
       "    <tr>\n",
       "      <th>12</th>\n",
       "      <td>12</td>\n",
       "      <td>Duration_minutes</td>\n",
       "      <td>1103</td>\n",
       "      <td>non-null</td>\n",
       "      <td>float64</td>\n",
       "      <td>112</td>\n",
       "      <td>0</td>\n",
       "      <td>30.0 | 666</td>\n",
       "      <td>2.611</td>\n",
       "      <td>10.946</td>\n",
       "      <td>32.39</td>\n",
       "      <td>0.67</td>\n",
       "      <td>30.0</td>\n",
       "      <td>30.0</td>\n",
       "      <td>30.33</td>\n",
       "      <td>73.83</td>\n",
       "      <td>6.61</td>\n",
       "    </tr>\n",
       "    <tr>\n",
       "      <th>13</th>\n",
       "      <td>13</td>\n",
       "      <td>Streak_days</td>\n",
       "      <td>1103</td>\n",
       "      <td>non-null</td>\n",
       "      <td>int64</td>\n",
       "      <td>13</td>\n",
       "      <td>0</td>\n",
       "      <td>0 | 522</td>\n",
       "      <td>5.488</td>\n",
       "      <td>51.458</td>\n",
       "      <td>1.01</td>\n",
       "      <td>0.0</td>\n",
       "      <td>0.0</td>\n",
       "      <td>1.0</td>\n",
       "      <td>1.0</td>\n",
       "      <td>23.0</td>\n",
       "      <td>1.7</td>\n",
       "    </tr>\n",
       "  </tbody>\n",
       "</table>\n",
       "</div>"
      ],
      "text/plain": [
       "     #            Column Non-Null     Count           Dtype  Uni_Count  Nulls  \\\n",
       "0    0                Id     1103  non-null           int64       1103      0   \n",
       "1    1            Device     1103  non-null          object          1      0   \n",
       "2    2       Calibration     1103  non-null          object          1      0   \n",
       "3    3          Software     1103  non-null          object          1      0   \n",
       "4    4              Date     1103  non-null          object       1100      0   \n",
       "5    5              Time     1103  non-null          object       1085      0   \n",
       "6    6   RecordIntervall     1103  non-null          object          1      0   \n",
       "7    7      Transmission     1103  non-null          object          1      0   \n",
       "8    8            Energy     1103  non-null          object          1      0   \n",
       "9    9  TrainingDateTime     1103  non-null          object       1102      0   \n",
       "10  10          FileName     1103  non-null          object       1103      0   \n",
       "11  11         CreatedAt     1103  non-null  datetime64[ns]         42      0   \n",
       "12  12  Duration_minutes     1103  non-null         float64        112      0   \n",
       "13  13       Streak_days     1103  non-null           int64         13      0   \n",
       "\n",
       "                            Most_Frequent    skew   kurto  \\\n",
       "0                                   1 | 1  -0.002  -1.198   \n",
       "1                   SJ10X SKYLON 5 | 1103     NaN     NaN   \n",
       "2                   07655-350-2007 | 1103     NaN     NaN   \n",
       "3                             3367 | 1103     NaN     NaN   \n",
       "4                          17.04.2021 | 3     NaN     NaN   \n",
       "5                            12:48:48 | 2     NaN     NaN   \n",
       "6                               10 | 1103     NaN     NaN   \n",
       "7                              9.5 | 1103     NaN     NaN   \n",
       "8                              6.0 | 1103     NaN     NaN   \n",
       "9           2016-07-15T18:23:31+01:00 | 2     NaN     NaN   \n",
       "10  Training 11.01.2014 20h09m26s.xml | 1     NaN     NaN   \n",
       "11       2021-01-08 00:38:14.296766 | 134     NaN     NaN   \n",
       "12                             30.0 | 666   2.611  10.946   \n",
       "13                                0 | 522   5.488  51.458   \n",
       "\n",
       "                             mean                         min  \\\n",
       "0                           554.9                         1.0   \n",
       "1                             NaN                         NaN   \n",
       "2                             NaN                         NaN   \n",
       "3                             NaN                         NaN   \n",
       "4                             NaN                         NaN   \n",
       "5                             NaN                         NaN   \n",
       "6                             NaN                         NaN   \n",
       "7                             NaN                         NaN   \n",
       "8                             NaN                         NaN   \n",
       "9                             NaN                         NaN   \n",
       "10                            NaN                         NaN   \n",
       "11  2021-06-28 16:47:45.147180032  2021-01-07 23:58:46.053121   \n",
       "12                          32.39                        0.67   \n",
       "13                           1.01                         0.0   \n",
       "\n",
       "                              25%                            50%  \\\n",
       "0                           279.5                          555.0   \n",
       "1                             NaN                            NaN   \n",
       "2                             NaN                            NaN   \n",
       "3                             NaN                            NaN   \n",
       "4                             NaN                            NaN   \n",
       "5                             NaN                            NaN   \n",
       "6                             NaN                            NaN   \n",
       "7                             NaN                            NaN   \n",
       "8                             NaN                            NaN   \n",
       "9                             NaN                            NaN   \n",
       "10                            NaN                            NaN   \n",
       "11  2021-01-08 00:35:55.915694080  2021-01-08 00:40:59.018162944   \n",
       "12                           30.0                           30.0   \n",
       "13                            0.0                            1.0   \n",
       "\n",
       "                              75%                         max     std  \n",
       "0                           830.5                      1106.0  318.71  \n",
       "1                             NaN                         NaN     NaN  \n",
       "2                             NaN                         NaN     NaN  \n",
       "3                             NaN                         NaN     NaN  \n",
       "4                             NaN                         NaN     NaN  \n",
       "5                             NaN                         NaN     NaN  \n",
       "6                             NaN                         NaN     NaN  \n",
       "7                             NaN                         NaN     NaN  \n",
       "8                             NaN                         NaN     NaN  \n",
       "9                             NaN                         NaN     NaN  \n",
       "10                            NaN                         NaN     NaN  \n",
       "11  2022-01-18 11:20:47.755098880  2023-11-11 13:28:59.132473     NaN  \n",
       "12                          30.33                       73.83    6.61  \n",
       "13                            1.0                        23.0     1.7  "
      ]
     },
     "execution_count": 3,
     "metadata": {},
     "output_type": "execute_result"
    }
   ],
   "source": [
    "my_show_info(df_training)"
   ]
  },
  {
   "cell_type": "code",
   "execution_count": 4,
   "metadata": {},
   "outputs": [
    {
     "name": "stdout",
     "output_type": "stream",
     "text": [
      "remove these one-item columns:['Device', 'Calibration', 'Software', 'RecordIntervall', 'Transmission', 'Energy']\n"
     ]
    },
    {
     "data": {
      "text/html": [
       "<div>\n",
       "<style scoped>\n",
       "    .dataframe tbody tr th:only-of-type {\n",
       "        vertical-align: middle;\n",
       "    }\n",
       "\n",
       "    .dataframe tbody tr th {\n",
       "        vertical-align: top;\n",
       "    }\n",
       "\n",
       "    .dataframe thead th {\n",
       "        text-align: right;\n",
       "    }\n",
       "</style>\n",
       "<table border=\"1\" class=\"dataframe\">\n",
       "  <thead>\n",
       "    <tr style=\"text-align: right;\">\n",
       "      <th></th>\n",
       "      <th>Pulse</th>\n",
       "      <th>Power</th>\n",
       "      <th>RPM</th>\n",
       "      <th>TimePassed_minutes</th>\n",
       "      <th>TimePassed_percent</th>\n",
       "      <th>Score_10sec</th>\n",
       "      <th>Date</th>\n",
       "      <th>Time</th>\n",
       "      <th>TrainingDateTime</th>\n",
       "      <th>Duration_minutes</th>\n",
       "      <th>Streak_days</th>\n",
       "      <th>daytime</th>\n",
       "      <th>day_of_week</th>\n",
       "    </tr>\n",
       "    <tr>\n",
       "      <th>Id</th>\n",
       "      <th></th>\n",
       "      <th></th>\n",
       "      <th></th>\n",
       "      <th></th>\n",
       "      <th></th>\n",
       "      <th></th>\n",
       "      <th></th>\n",
       "      <th></th>\n",
       "      <th></th>\n",
       "      <th></th>\n",
       "      <th></th>\n",
       "      <th></th>\n",
       "      <th></th>\n",
       "    </tr>\n",
       "  </thead>\n",
       "  <tbody>\n",
       "    <tr>\n",
       "      <th>1</th>\n",
       "      <td>0</td>\n",
       "      <td>50</td>\n",
       "      <td>46</td>\n",
       "      <td>0.17</td>\n",
       "      <td>3.13e-03</td>\n",
       "      <td>1.97e-03</td>\n",
       "      <td>11.01.2014</td>\n",
       "      <td>20:09:26</td>\n",
       "      <td>2014-01-11 20:09:26+01:00</td>\n",
       "      <td>53.17</td>\n",
       "      <td>0</td>\n",
       "      <td>evening</td>\n",
       "      <td>Saturday</td>\n",
       "    </tr>\n",
       "    <tr>\n",
       "      <th>2</th>\n",
       "      <td>0</td>\n",
       "      <td>150</td>\n",
       "      <td>45</td>\n",
       "      <td>36.17</td>\n",
       "      <td>6.80e-01</td>\n",
       "      <td>5.77e-03</td>\n",
       "      <td>11.01.2014</td>\n",
       "      <td>20:09:26</td>\n",
       "      <td>2014-01-11 20:09:26+01:00</td>\n",
       "      <td>53.17</td>\n",
       "      <td>0</td>\n",
       "      <td>evening</td>\n",
       "      <td>Saturday</td>\n",
       "    </tr>\n",
       "    <tr>\n",
       "      <th>3</th>\n",
       "      <td>0</td>\n",
       "      <td>150</td>\n",
       "      <td>49</td>\n",
       "      <td>36.00</td>\n",
       "      <td>6.77e-01</td>\n",
       "      <td>6.28e-03</td>\n",
       "      <td>11.01.2014</td>\n",
       "      <td>20:09:26</td>\n",
       "      <td>2014-01-11 20:09:26+01:00</td>\n",
       "      <td>53.17</td>\n",
       "      <td>0</td>\n",
       "      <td>evening</td>\n",
       "      <td>Saturday</td>\n",
       "    </tr>\n",
       "  </tbody>\n",
       "</table>\n",
       "</div>"
      ],
      "text/plain": [
       "    Pulse  Power  RPM  TimePassed_minutes  TimePassed_percent  Score_10sec  \\\n",
       "Id                                                                           \n",
       "1       0     50   46                0.17            3.13e-03     1.97e-03   \n",
       "2       0    150   45               36.17            6.80e-01     5.77e-03   \n",
       "3       0    150   49               36.00            6.77e-01     6.28e-03   \n",
       "\n",
       "          Date      Time          TrainingDateTime  Duration_minutes  \\\n",
       "Id                                                                     \n",
       "1   11.01.2014  20:09:26 2014-01-11 20:09:26+01:00             53.17   \n",
       "2   11.01.2014  20:09:26 2014-01-11 20:09:26+01:00             53.17   \n",
       "3   11.01.2014  20:09:26 2014-01-11 20:09:26+01:00             53.17   \n",
       "\n",
       "    Streak_days  daytime day_of_week  \n",
       "Id                                    \n",
       "1             0  evening    Saturday  \n",
       "2             0  evening    Saturday  \n",
       "3             0  evening    Saturday  "
      ]
     },
     "execution_count": 4,
     "metadata": {},
     "output_type": "execute_result"
    }
   ],
   "source": [
    "#\n",
    "# * id col is new index\n",
    "if \"Id\" in df_training.columns:\n",
    "    df_training.set_index(\"Id\", inplace=True, drop=True)\n",
    "if \"Id\" in df_records.columns:\n",
    "    df_records.set_index(\"Id\", inplace=True, drop=True)\n",
    "\n",
    "# * convert to proper datetime (remove 'T')\n",
    "df_training.TrainingDateTime=pd.to_datetime(df_training.TrainingDateTime, errors='coerce')\n",
    "\n",
    "df_training['daytime']=df_training.TrainingDateTime.dt.hour.map(\n",
    "    lambda x: \"morning\" if x < 13 else \"day\" if x < 18 else \"evening\"\n",
    ")\n",
    "\n",
    "# * add day_of_week\n",
    "df_training['day_of_week']=df_training.TrainingDateTime.dt.strftime('%A')\n",
    "\n",
    "# * join both tables on records level\n",
    "df=df_records.join(df_training, on=\"TrainingId\")\n",
    "df\n",
    "\n",
    "# * drop unneeded columns: filename, createdat, TrainingId\n",
    "col_one_item = [col for col in df if len(df[col].unique()) == 1]\n",
    "print(f\"remove these one-item columns:{col_one_item}\")\n",
    "\n",
    "df.drop(\n",
    "    # * subtract columns to make the statement idempotent\n",
    "    columns=set(df.columns)\n",
    "    & (set([\"FileName\", \"CreatedAt\", \"TrainingId\"]) | set(col_one_item)),\n",
    "    inplace=True,\n",
    ")\n",
    "\n",
    "df[:3]"
   ]
  },
  {
   "cell_type": "code",
   "execution_count": 5,
   "metadata": {},
   "outputs": [
    {
     "data": {
      "image/png": "[encoded data removed]"
     },
     "metadata": {},
     "output_type": "display_data"
    }
   ],
   "source": [
    "px.pie(\n",
    "    df_training,\n",
    "    names=\"daytime\",\n",
    "    template=THEME_PLOTLY,\n",
    "    title=\"training count by daytime by day_of_week\",\n",
    "    facet_col=\"day_of_week\",\n",
    "    width=1600,\n",
    "    height=400,\n",
    ").show(\"png\")"
   ]
  },
  {
   "cell_type": "code",
   "execution_count": 6,
   "metadata": {},
   "outputs": [
    {
     "data": {
      "application/vnd.plotly.v1+json": {
       "config": {
        "plotlyServerURL": "https://plot.ly"
       },
       "data": [
        {
         "alignmentgroup": "True",
         "boxpoints": "outliers",
         "hovertemplate": "daytime=evening<br>facet_col=2014<br>Duration_minutes=%{y}<extra></extra>",
         "legendgroup": "evening",
         "marker": {
          "color": "#636efa"
         },
         "name": "evening",
         "notched": false,
         "offsetgroup": "evening",
         "orientation": "v",
         "showlegend": true,
         "type": "box",
         "x0": " ",
         "xaxis": "x",
         "y": [
          53.166666666666664,
          56.666666666666664,
          59.166666666666664,
          60,
          58.666666666666664,
          56,
          60.5,
          73.83333333333333,
          50,
          51,
          55.166666666666664,
          60.166666666666664,
          56.5,
          72.83333333333333,
          51.5,
          54.666666666666664,
          50.166666666666664,
          49,
          51.166666666666664,
          60.333333333333336,
          68.83333333333333,
          63.333333333333336,
          51,
          67.33333333333333,
          55.333333333333336,
          63.333333333333336,
          43.5,
          41.5,
          51.5,
          60,
          42.333333333333336,
          41,
          20.5,
          55,
          45.333333333333336,
          43.333333333333336,
          40.833333333333336,
          40,
          44,
          40.333333333333336,
          40,
          40,
          40.5,
          11.333333333333334,
          40,
          41.5,
          39,
          41.166666666666664,
          69,
          50.833333333333336,
          40,
          41,
          40.5,
          44.166666666666664,
          44,
          40,
          40,
          43.5,
          47.5,
          40,
          41.333333333333336,
          50,
          20,
          45.833333333333336,
          41.833333333333336,
          43.5,
          40.666666666666664,
          40,
          41.333333333333336,
          40.666666666666664,
          40,
          47,
          40,
          40.166666666666664,
          40,
          39.833333333333336,
          40,
          43,
          41,
          48.666666666666664,
          41.333333333333336,
          50.166666666666664
         ],
         "y0": " ",
         "yaxis": "y"
        },
        {
         "alignmentgroup": "True",
         "boxpoints": "outliers",
         "hovertemplate": "daytime=evening<br>facet_col=2015<br>Duration_minutes=%{y}<extra></extra>",
         "legendgroup": "evening",
         "marker": {
          "color": "#636efa"
         },
         "name": "evening",
         "notched": false,
         "offsetgroup": "evening",
         "orientation": "v",
         "showlegend": false,
         "type": "box",
         "x0": " ",
         "xaxis": "x2",
         "y": [
          30,
          30.166666666666668,
          40,
          40,
          30,
          30,
          40,
          43.833333333333336,
          30,
          30,
          30,
          40,
          40.333333333333336,
          30,
          30,
          30.166666666666668,
          40,
          30,
          30,
          34.833333333333336,
          32,
          30,
          40,
          30,
          30.333333333333332,
          30,
          30.166666666666668,
          43,
          32,
          30.5,
          40,
          42.166666666666664,
          30,
          35,
          30.333333333333332,
          30,
          29.833333333333332,
          30.166666666666668,
          32.833333333333336,
          37,
          29.833333333333332,
          40.166666666666664,
          30,
          30.666666666666668,
          40,
          30.5,
          30,
          35,
          35,
          30,
          35
         ],
         "y0": " ",
         "yaxis": "y2"
        },
        {
         "alignmentgroup": "True",
         "boxpoints": "outliers",
         "hovertemplate": "daytime=evening<br>facet_col=2016<br>Duration_minutes=%{y}<extra></extra>",
         "legendgroup": "evening",
         "marker": {
          "color": "#636efa"
         },
         "name": "evening",
         "notched": false,
         "offsetgroup": "evening",
         "orientation": "v",
         "showlegend": false,
         "type": "box",
         "x0": " ",
         "xaxis": "x3",
         "y": [
          30,
          29.833333333333332,
          30,
          30,
          30,
          30,
          30,
          30,
          40.166666666666664,
          39.833333333333336,
          30,
          30,
          30,
          30,
          34.833333333333336,
          29.833333333333332,
          30.166666666666668,
          25.666666666666668,
          35,
          30,
          30,
          30,
          30,
          30,
          35,
          30.166666666666668,
          32.833333333333336,
          30,
          30.166666666666668,
          48.666666666666664,
          30,
          30,
          30.166666666666668,
          30.333333333333332,
          30,
          30.333333333333332,
          30,
          35,
          29.833333333333332,
          29.833333333333332,
          30,
          30,
          30,
          30,
          30,
          30,
          40,
          30.333333333333332,
          30.333333333333332,
          30.333333333333332,
          30,
          30.5,
          30,
          30,
          35,
          30,
          30,
          30,
          30,
          30.166666666666668,
          44.333333333333336,
          30,
          35,
          29.833333333333332,
          30,
          30,
          30,
          30.166666666666668,
          30,
          30,
          35.333333333333336,
          30,
          30,
          29.833333333333332,
          30,
          30,
          29.833333333333332
         ],
         "y0": " ",
         "yaxis": "y3"
        },
        {
         "alignmentgroup": "True",
         "boxpoints": "outliers",
         "hovertemplate": "daytime=evening<br>facet_col=2017<br>Duration_minutes=%{y}<extra></extra>",
         "legendgroup": "evening",
         "marker": {
          "color": "#636efa"
         },
         "name": "evening",
         "notched": false,
         "offsetgroup": "evening",
         "orientation": "v",
         "showlegend": false,
         "type": "box",
         "x0": " ",
         "xaxis": "x4",
         "y": [
          30,
          30,
          30,
          30,
          30.833333333333332,
          30,
          30,
          30.333333333333332,
          30,
          30.666666666666668,
          30,
          30,
          30,
          30,
          32.166666666666664,
          30,
          30,
          30,
          30,
          30,
          30,
          30,
          30,
          30,
          29.833333333333332,
          30,
          29.833333333333332,
          30,
          30,
          30,
          30,
          31.333333333333332,
          30,
          30,
          30,
          30,
          30,
          30,
          36.5,
          30.5,
          30,
          29.833333333333332,
          30,
          30,
          30,
          30,
          30,
          30,
          30,
          30,
          30,
          30,
          31,
          30,
          30.166666666666668,
          30,
          30,
          30,
          30,
          35,
          30,
          30,
          30,
          30,
          30,
          30,
          30,
          30,
          29.833333333333332,
          30,
          30,
          30,
          30,
          30,
          30,
          30,
          30,
          29.833333333333332,
          30,
          30,
          29.833333333333332,
          30,
          30,
          30,
          30,
          30,
          30,
          30,
          30,
          31.5,
          30.166666666666668,
          30
         ],
         "y0": " ",
         "yaxis": "y4"
        },
        {
         "alignmentgroup": "True",
         "boxpoints": "outliers",
         "hovertemplate": "daytime=evening<br>facet_col=2018<br>Duration_minutes=%{y}<extra></extra>",
         "legendgroup": "evening",
         "marker": {
          "color": "#636efa"
         },
         "name": "evening",
         "notched": false,
         "offsetgroup": "evening",
         "orientation": "v",
         "showlegend": false,
         "type": "box",
         "x0": " ",
         "xaxis": "x5",
         "y": [
          30,
          30,
          30,
          29.833333333333332,
          30,
          30,
          30,
          30,
          30,
          30,
          30,
          30,
          35,
          30,
          30,
          30,
          30,
          30,
          50,
          29.833333333333332,
          29.833333333333332,
          30.833333333333332,
          30,
          30,
          30,
          30,
          30,
          30,
          30,
          29,
          30,
          30,
          30.666666666666668,
          30,
          30,
          30,
          30,
          29.833333333333332,
          30,
          30,
          29.833333333333332,
          30,
          30,
          30,
          30,
          30,
          30,
          30,
          30.5,
          30,
          30.333333333333332,
          33.5,
          30,
          30,
          30,
          30,
          36.333333333333336,
          30.166666666666668,
          30,
          30,
          30,
          30.166666666666668,
          30.333333333333332,
          30,
          30,
          32.666666666666664,
          29.833333333333332,
          30.333333333333332,
          30,
          30,
          30,
          30,
          30,
          30.166666666666668,
          30.5,
          30,
          30,
          30.166666666666668,
          30,
          30,
          30
         ],
         "y0": " ",
         "yaxis": "y5"
        },
        {
         "alignmentgroup": "True",
         "boxpoints": "outliers",
         "hovertemplate": "daytime=evening<br>facet_col=2019<br>Duration_minutes=%{y}<extra></extra>",
         "legendgroup": "evening",
         "marker": {
          "color": "#636efa"
         },
         "name": "evening",
         "notched": false,
         "offsetgroup": "evening",
         "orientation": "v",
         "showlegend": false,
         "type": "box",
         "x0": " ",
         "xaxis": "x6",
         "y": [
          30,
          29.833333333333332,
          30,
          29.833333333333332,
          30,
          30,
          30,
          30.5,
          29.833333333333332,
          30,
          30,
          10,
          30,
          30,
          30,
          29.833333333333332,
          29.833333333333332,
          32,
          30,
          30,
          30,
          30,
          30,
          30.333333333333332,
          30,
          27.666666666666668,
          30,
          30,
          29.833333333333332,
          29.833333333333332
         ],
         "y0": " ",
         "yaxis": "y6"
        },
        {
         "alignmentgroup": "True",
         "boxpoints": "outliers",
         "hovertemplate": "daytime=evening<br>facet_col=2020<br>Duration_minutes=%{y}<extra></extra>",
         "legendgroup": "evening",
         "marker": {
          "color": "#636efa"
         },
         "name": "evening",
         "notched": false,
         "offsetgroup": "evening",
         "orientation": "v",
         "showlegend": false,
         "type": "box",
         "x0": " ",
         "xaxis": "x7",
         "y": [
          31.166666666666668,
          30,
          30,
          30,
          30,
          30,
          30,
          30,
          30,
          30,
          30,
          30,
          30,
          30,
          30,
          30,
          30,
          30.166666666666668,
          29.833333333333332,
          30.166666666666668,
          30.166666666666668,
          30,
          30,
          30,
          30.166666666666668,
          30.166666666666668,
          30,
          30,
          30,
          30.166666666666668,
          30,
          30,
          30,
          30,
          32,
          30,
          30,
          30,
          30,
          30,
          30,
          30,
          30,
          30,
          30,
          30.166666666666668
         ],
         "y0": " ",
         "yaxis": "y7"
        },
        {
         "alignmentgroup": "True",
         "boxpoints": "outliers",
         "hovertemplate": "daytime=evening<br>facet_col=2021<br>Duration_minutes=%{y}<extra></extra>",
         "legendgroup": "evening",
         "marker": {
          "color": "#636efa"
         },
         "name": "evening",
         "notched": false,
         "offsetgroup": "evening",
         "orientation": "v",
         "showlegend": false,
         "type": "box",
         "x0": " ",
         "xaxis": "x8",
         "y": [
          30,
          30.166666666666668,
          30.166666666666668,
          30.166666666666668,
          30.166666666666668,
          30.333333333333332,
          30,
          30,
          30,
          30,
          30,
          30,
          30.166666666666668,
          30,
          30,
          30,
          30.166666666666668,
          30,
          30,
          30,
          30.166666666666668,
          30,
          30,
          26.833333333333332,
          30,
          25,
          30,
          30,
          30.166666666666668,
          30,
          30,
          30,
          30,
          30,
          31.333333333333332,
          30,
          30.166666666666668,
          30,
          30,
          30,
          30.666666666666668,
          30.166666666666668,
          29.833333333333332,
          30,
          30,
          30,
          30,
          29.833333333333332,
          30,
          30,
          2.5,
          0.6666666666666666,
          26.5,
          29.833333333333332,
          30,
          30,
          30,
          30,
          30,
          30.166666666666668,
          25,
          29.833333333333332,
          30,
          30,
          30,
          30,
          29.833333333333332,
          30.166666666666668,
          30,
          29.833333333333332,
          30,
          30,
          30
         ],
         "y0": " ",
         "yaxis": "y8"
        },
        {
         "alignmentgroup": "True",
         "boxpoints": "outliers",
         "hovertemplate": "daytime=evening<br>facet_col=2022<br>Duration_minutes=%{y}<extra></extra>",
         "legendgroup": "evening",
         "marker": {
          "color": "#636efa"
         },
         "name": "evening",
         "notched": false,
         "offsetgroup": "evening",
         "orientation": "v",
         "showlegend": false,
         "type": "box",
         "x0": " ",
         "xaxis": "x9",
         "y": [
          30.166666666666668,
          30,
          30.5,
          30,
          30,
          29.833333333333332,
          30,
          30.166666666666668,
          30,
          30,
          30.166666666666668,
          30,
          30,
          30,
          33,
          30.5,
          30,
          30,
          30,
          30,
          30,
          30,
          30,
          30,
          30,
          29.833333333333332,
          30,
          30,
          30,
          30,
          30.166666666666668,
          30,
          30,
          30,
          30.333333333333332,
          30,
          30,
          30,
          30,
          30,
          30,
          30.166666666666668,
          30,
          30,
          30,
          30.333333333333332,
          30,
          30,
          30,
          30,
          30,
          30,
          30,
          30,
          30,
          29.833333333333332,
          30,
          30,
          30
         ],
         "y0": " ",
         "yaxis": "y9"
        },
        {
         "alignmentgroup": "True",
         "boxpoints": "outliers",
         "hovertemplate": "daytime=evening<br>facet_col=2023<br>Duration_minutes=%{y}<extra></extra>",
         "legendgroup": "evening",
         "marker": {
          "color": "#636efa"
         },
         "name": "evening",
         "notched": false,
         "offsetgroup": "evening",
         "orientation": "v",
         "showlegend": false,
         "type": "box",
         "x0": " ",
         "xaxis": "x10",
         "y": [
          30,
          30.166666666666668,
          29.833333333333332,
          30,
          30,
          30,
          30.333333333333332,
          29.833333333333332,
          30,
          30,
          30,
          29.833333333333332,
          30,
          30,
          30,
          30.166666666666668,
          30,
          30,
          30,
          30,
          30,
          30,
          30,
          30,
          30,
          30,
          30,
          30.166666666666668,
          30.333333333333332,
          30,
          30,
          30.5,
          30,
          30.333333333333332,
          30,
          30,
          30,
          30,
          30,
          30,
          30,
          30,
          30,
          30.166666666666668,
          30.166666666666668,
          29.833333333333332,
          29.833333333333332,
          30,
          30,
          30,
          30,
          30,
          29.833333333333332,
          30,
          30,
          30.166666666666668,
          30,
          30.166666666666668,
          30,
          30,
          30,
          30,
          30.166666666666668,
          30,
          31.5,
          30,
          30.333333333333332,
          30.333333333333332,
          30.166666666666668,
          30,
          30.166666666666668,
          30,
          30,
          30.166666666666668,
          30
         ],
         "y0": " ",
         "yaxis": "y10"
        },
        {
         "alignmentgroup": "True",
         "boxpoints": "outliers",
         "hovertemplate": "daytime=day<br>facet_col=2014<br>Duration_minutes=%{y}<extra></extra>",
         "legendgroup": "day",
         "marker": {
          "color": "#EF553B"
         },
         "name": "day",
         "notched": false,
         "offsetgroup": "day",
         "orientation": "v",
         "showlegend": true,
         "type": "box",
         "x0": " ",
         "xaxis": "x",
         "y": [
          70.83333333333333,
          66.33333333333333,
          49,
          32,
          36.5,
          40,
          40,
          40,
          40,
          41.5,
          41.666666666666664,
          41.166666666666664,
          45,
          40,
          40,
          40,
          45,
          40
         ],
         "y0": " ",
         "yaxis": "y"
        },
        {
         "alignmentgroup": "True",
         "boxpoints": "outliers",
         "hovertemplate": "daytime=day<br>facet_col=2015<br>Duration_minutes=%{y}<extra></extra>",
         "legendgroup": "day",
         "marker": {
          "color": "#EF553B"
         },
         "name": "day",
         "notched": false,
         "offsetgroup": "day",
         "orientation": "v",
         "showlegend": false,
         "type": "box",
         "x0": " ",
         "xaxis": "x2",
         "y": [
          40,
          47.5,
          30,
          40,
          30,
          40,
          40.5,
          35,
          41,
          30,
          31.333333333333332,
          40,
          30,
          45,
          30,
          35,
          30.166666666666668,
          40,
          30.166666666666668,
          30.666666666666668,
          29.833333333333332,
          40,
          30,
          35,
          31.333333333333332,
          40,
          55
         ],
         "y0": " ",
         "yaxis": "y2"
        },
        {
         "alignmentgroup": "True",
         "boxpoints": "outliers",
         "hovertemplate": "daytime=day<br>facet_col=2016<br>Duration_minutes=%{y}<extra></extra>",
         "legendgroup": "day",
         "marker": {
          "color": "#EF553B"
         },
         "name": "day",
         "notched": false,
         "offsetgroup": "day",
         "orientation": "v",
         "showlegend": false,
         "type": "box",
         "x0": " ",
         "xaxis": "x3",
         "y": [
          30,
          30,
          30,
          30,
          31.666666666666668,
          30,
          48.833333333333336,
          30,
          30,
          40.5,
          30,
          29.833333333333332,
          35,
          29.833333333333332,
          30,
          30,
          30,
          30,
          30,
          30,
          30,
          35,
          30.5,
          40.5,
          30,
          30,
          30,
          30,
          40.166666666666664,
          30.5,
          30,
          30,
          37,
          30,
          30.333333333333332,
          30,
          36,
          37.833333333333336
         ],
         "y0": " ",
         "yaxis": "y3"
        },
        {
         "alignmentgroup": "True",
         "boxpoints": "outliers",
         "hovertemplate": "daytime=day<br>facet_col=2017<br>Duration_minutes=%{y}<extra></extra>",
         "legendgroup": "day",
         "marker": {
          "color": "#EF553B"
         },
         "name": "day",
         "notched": false,
         "offsetgroup": "day",
         "orientation": "v",
         "showlegend": false,
         "type": "box",
         "x0": " ",
         "xaxis": "x4",
         "y": [
          36.166666666666664,
          30,
          30,
          30,
          30,
          30,
          29.833333333333332,
          30,
          32.666666666666664,
          30,
          30,
          30,
          30,
          30,
          29.833333333333332,
          30,
          30,
          30,
          30,
          30,
          29.833333333333332,
          30,
          40.333333333333336,
          30,
          30,
          30,
          30,
          30,
          30.166666666666668,
          40,
          34.833333333333336,
          30,
          30.166666666666668,
          30
         ],
         "y0": " ",
         "yaxis": "y4"
        },
        {
         "alignmentgroup": "True",
         "boxpoints": "outliers",
         "hovertemplate": "daytime=day<br>facet_col=2018<br>Duration_minutes=%{y}<extra></extra>",
         "legendgroup": "day",
         "marker": {
          "color": "#EF553B"
         },
         "name": "day",
         "notched": false,
         "offsetgroup": "day",
         "orientation": "v",
         "showlegend": false,
         "type": "box",
         "x0": " ",
         "xaxis": "x5",
         "y": [
          30,
          30,
          30,
          30,
          30,
          30,
          30,
          30,
          30,
          35,
          30,
          30,
          30,
          30,
          35,
          30,
          30,
          40,
          30,
          30,
          30.333333333333332,
          30,
          36.333333333333336,
          31.833333333333332
         ],
         "y0": " ",
         "yaxis": "y5"
        },
        {
         "alignmentgroup": "True",
         "boxpoints": "outliers",
         "hovertemplate": "daytime=day<br>facet_col=2019<br>Duration_minutes=%{y}<extra></extra>",
         "legendgroup": "day",
         "marker": {
          "color": "#EF553B"
         },
         "name": "day",
         "notched": false,
         "offsetgroup": "day",
         "orientation": "v",
         "showlegend": false,
         "type": "box",
         "x0": " ",
         "xaxis": "x6",
         "y": [
          30,
          30,
          30.166666666666668,
          30,
          30,
          30,
          30,
          30,
          30,
          30,
          30,
          30,
          30,
          29.833333333333332,
          30,
          30,
          30,
          30,
          30
         ],
         "y0": " ",
         "yaxis": "y6"
        },
        {
         "alignmentgroup": "True",
         "boxpoints": "outliers",
         "hovertemplate": "daytime=day<br>facet_col=2020<br>Duration_minutes=%{y}<extra></extra>",
         "legendgroup": "day",
         "marker": {
          "color": "#EF553B"
         },
         "name": "day",
         "notched": false,
         "offsetgroup": "day",
         "orientation": "v",
         "showlegend": false,
         "type": "box",
         "x0": " ",
         "xaxis": "x7",
         "y": [
          30,
          30,
          30,
          30,
          30,
          30.166666666666668,
          30,
          30,
          30,
          30,
          30,
          30,
          30,
          30,
          30,
          30.166666666666668,
          30.333333333333332,
          30,
          30,
          40,
          30,
          29.833333333333332,
          30
         ],
         "y0": " ",
         "yaxis": "y7"
        },
        {
         "alignmentgroup": "True",
         "boxpoints": "outliers",
         "hovertemplate": "daytime=day<br>facet_col=2021<br>Duration_minutes=%{y}<extra></extra>",
         "legendgroup": "day",
         "marker": {
          "color": "#EF553B"
         },
         "name": "day",
         "notched": false,
         "offsetgroup": "day",
         "orientation": "v",
         "showlegend": false,
         "type": "box",
         "x0": " ",
         "xaxis": "x8",
         "y": [
          30.166666666666668,
          30,
          30.333333333333332,
          30,
          30,
          30,
          30,
          30,
          29.666666666666668,
          30,
          30,
          30,
          30,
          30.666666666666668,
          30.5,
          30,
          30,
          30,
          30,
          30,
          30,
          30,
          30,
          30.166666666666668,
          30,
          30,
          30,
          12,
          30.166666666666668,
          30,
          30,
          30,
          30,
          30,
          30,
          30,
          30,
          30,
          30,
          30,
          30,
          32.833333333333336,
          30,
          30,
          30,
          30
         ],
         "y0": " ",
         "yaxis": "y8"
        },
        {
         "alignmentgroup": "True",
         "boxpoints": "outliers",
         "hovertemplate": "daytime=day<br>facet_col=2022<br>Duration_minutes=%{y}<extra></extra>",
         "legendgroup": "day",
         "marker": {
          "color": "#EF553B"
         },
         "name": "day",
         "notched": false,
         "offsetgroup": "day",
         "orientation": "v",
         "showlegend": false,
         "type": "box",
         "x0": " ",
         "xaxis": "x9",
         "y": [
          30,
          30,
          30,
          30.166666666666668,
          30.333333333333332,
          30,
          30,
          30,
          30,
          30,
          30.166666666666668,
          30,
          30,
          30,
          30,
          30,
          30,
          30,
          30,
          30,
          29.833333333333332,
          30.333333333333332,
          30,
          30,
          30,
          30.5,
          31.833333333333332,
          30,
          30,
          30.166666666666668,
          30.333333333333332,
          30.166666666666668,
          30,
          30
         ],
         "y0": " ",
         "yaxis": "y9"
        },
        {
         "alignmentgroup": "True",
         "boxpoints": "outliers",
         "hovertemplate": "daytime=day<br>facet_col=2023<br>Duration_minutes=%{y}<extra></extra>",
         "legendgroup": "day",
         "marker": {
          "color": "#EF553B"
         },
         "name": "day",
         "notched": false,
         "offsetgroup": "day",
         "orientation": "v",
         "showlegend": false,
         "type": "box",
         "x0": " ",
         "xaxis": "x10",
         "y": [
          30,
          30,
          30,
          30,
          30,
          30,
          30,
          30,
          30,
          34,
          30,
          30,
          30,
          30,
          30,
          30,
          31.166666666666668,
          30.166666666666668,
          30,
          30,
          30,
          30,
          30,
          30,
          30,
          30.166666666666668
         ],
         "y0": " ",
         "yaxis": "y10"
        },
        {
         "alignmentgroup": "True",
         "boxpoints": "outliers",
         "hovertemplate": "daytime=morning<br>facet_col=2014<br>Duration_minutes=%{y}<extra></extra>",
         "legendgroup": "morning",
         "marker": {
          "color": "#00cc96"
         },
         "name": "morning",
         "notched": false,
         "offsetgroup": "morning",
         "orientation": "v",
         "showlegend": true,
         "type": "box",
         "x0": " ",
         "xaxis": "x",
         "y": [
          44,
          41.833333333333336,
          40.333333333333336,
          45.5,
          30,
          45,
          52.666666666666664,
          40,
          47.166666666666664,
          40,
          47.166666666666664,
          40.833333333333336,
          40.666666666666664,
          42,
          55,
          40.166666666666664,
          40,
          62,
          57.833333333333336
         ],
         "y0": " ",
         "yaxis": "y"
        },
        {
         "alignmentgroup": "True",
         "boxpoints": "outliers",
         "hovertemplate": "daytime=morning<br>facet_col=2015<br>Duration_minutes=%{y}<extra></extra>",
         "legendgroup": "morning",
         "marker": {
          "color": "#00cc96"
         },
         "name": "morning",
         "notched": false,
         "offsetgroup": "morning",
         "orientation": "v",
         "showlegend": false,
         "type": "box",
         "x0": " ",
         "xaxis": "x2",
         "y": [
          30,
          40,
          30,
          30,
          30,
          35.5,
          39.833333333333336,
          41.666666666666664,
          30,
          40.166666666666664,
          40.666666666666664,
          30,
          30,
          34.166666666666664,
          30,
          30.666666666666668,
          30
         ],
         "y0": " ",
         "yaxis": "y2"
        },
        {
         "alignmentgroup": "True",
         "boxpoints": "outliers",
         "hovertemplate": "daytime=morning<br>facet_col=2016<br>Duration_minutes=%{y}<extra></extra>",
         "legendgroup": "morning",
         "marker": {
          "color": "#00cc96"
         },
         "name": "morning",
         "notched": false,
         "offsetgroup": "morning",
         "orientation": "v",
         "showlegend": false,
         "type": "box",
         "x0": " ",
         "xaxis": "x3",
         "y": [
          30.333333333333332,
          30,
          30,
          30.166666666666668,
          30,
          30,
          33.166666666666664,
          30,
          40.333333333333336,
          29.833333333333332,
          31,
          30.166666666666668,
          30,
          30.166666666666668,
          30.166666666666668,
          30,
          34.833333333333336
         ],
         "y0": " ",
         "yaxis": "y3"
        },
        {
         "alignmentgroup": "True",
         "boxpoints": "outliers",
         "hovertemplate": "daytime=morning<br>facet_col=2017<br>Duration_minutes=%{y}<extra></extra>",
         "legendgroup": "morning",
         "marker": {
          "color": "#00cc96"
         },
         "name": "morning",
         "notched": false,
         "offsetgroup": "morning",
         "orientation": "v",
         "showlegend": false,
         "type": "box",
         "x0": " ",
         "xaxis": "x4",
         "y": [
          29.833333333333332,
          30,
          30,
          30,
          31.833333333333332,
          30,
          30,
          30
         ],
         "y0": " ",
         "yaxis": "y4"
        },
        {
         "alignmentgroup": "True",
         "boxpoints": "outliers",
         "hovertemplate": "daytime=morning<br>facet_col=2018<br>Duration_minutes=%{y}<extra></extra>",
         "legendgroup": "morning",
         "marker": {
          "color": "#00cc96"
         },
         "name": "morning",
         "notched": false,
         "offsetgroup": "morning",
         "orientation": "v",
         "showlegend": false,
         "type": "box",
         "x0": " ",
         "xaxis": "x5",
         "y": [
          30,
          43,
          30,
          30,
          30,
          30,
          30,
          30,
          35,
          40,
          30.333333333333332,
          35,
          30,
          30,
          29.833333333333332,
          30,
          30,
          30,
          30,
          30,
          35,
          30,
          30,
          30.166666666666668,
          30,
          30,
          30
         ],
         "y0": " ",
         "yaxis": "y5"
        },
        {
         "alignmentgroup": "True",
         "boxpoints": "outliers",
         "hovertemplate": "daytime=morning<br>facet_col=2019<br>Duration_minutes=%{y}<extra></extra>",
         "legendgroup": "morning",
         "marker": {
          "color": "#00cc96"
         },
         "name": "morning",
         "notched": false,
         "offsetgroup": "morning",
         "orientation": "v",
         "showlegend": false,
         "type": "box",
         "x0": " ",
         "xaxis": "x6",
         "y": [
          30,
          30,
          30,
          30
         ],
         "y0": " ",
         "yaxis": "y6"
        },
        {
         "alignmentgroup": "True",
         "boxpoints": "outliers",
         "hovertemplate": "daytime=morning<br>facet_col=2020<br>Duration_minutes=%{y}<extra></extra>",
         "legendgroup": "morning",
         "marker": {
          "color": "#00cc96"
         },
         "name": "morning",
         "notched": false,
         "offsetgroup": "morning",
         "orientation": "v",
         "showlegend": false,
         "type": "box",
         "x0": " ",
         "xaxis": "x7",
         "y": [
          30,
          30,
          30,
          30.166666666666668,
          30,
          30,
          30,
          30,
          30,
          30,
          30.166666666666668,
          30,
          30,
          30,
          30,
          30,
          30,
          30.166666666666668,
          30,
          30,
          35.333333333333336
         ],
         "y0": " ",
         "yaxis": "y7"
        },
        {
         "alignmentgroup": "True",
         "boxpoints": "outliers",
         "hovertemplate": "daytime=morning<br>facet_col=2021<br>Duration_minutes=%{y}<extra></extra>",
         "legendgroup": "morning",
         "marker": {
          "color": "#00cc96"
         },
         "name": "morning",
         "notched": false,
         "offsetgroup": "morning",
         "orientation": "v",
         "showlegend": false,
         "type": "box",
         "x0": " ",
         "xaxis": "x8",
         "y": [
          30,
          30,
          30,
          30,
          29.833333333333332,
          29.833333333333332,
          30.666666666666668,
          30,
          29.833333333333332,
          29.833333333333332,
          30,
          21,
          30.166666666666668
         ],
         "y0": " ",
         "yaxis": "y8"
        },
        {
         "alignmentgroup": "True",
         "boxpoints": "outliers",
         "hovertemplate": "daytime=morning<br>facet_col=2022<br>Duration_minutes=%{y}<extra></extra>",
         "legendgroup": "morning",
         "marker": {
          "color": "#00cc96"
         },
         "name": "morning",
         "notched": false,
         "offsetgroup": "morning",
         "orientation": "v",
         "showlegend": false,
         "type": "box",
         "x0": " ",
         "xaxis": "x9",
         "y": [
          30,
          30,
          30,
          30.166666666666668,
          30,
          30,
          30,
          30,
          30,
          30.166666666666668,
          30.333333333333332,
          29.833333333333332,
          29.833333333333332,
          30,
          30,
          30,
          30,
          30,
          30,
          30
         ],
         "y0": " ",
         "yaxis": "y9"
        },
        {
         "alignmentgroup": "True",
         "boxpoints": "outliers",
         "hovertemplate": "daytime=morning<br>facet_col=2023<br>Duration_minutes=%{y}<extra></extra>",
         "legendgroup": "morning",
         "marker": {
          "color": "#00cc96"
         },
         "name": "morning",
         "notched": false,
         "offsetgroup": "morning",
         "orientation": "v",
         "showlegend": false,
         "type": "box",
         "x0": " ",
         "xaxis": "x10",
         "y": [
          30,
          30
         ],
         "y0": " ",
         "yaxis": "y10"
        }
       ],
       "layout": {
        "annotations": [
         {
          "font": {},
          "showarrow": false,
          "text": "facet_col=2014",
          "x": 0.04100000000000001,
          "xanchor": "center",
          "xref": "paper",
          "y": 1,
          "yanchor": "bottom",
          "yref": "paper"
         },
         {
          "font": {},
          "showarrow": false,
          "text": "facet_col=2015",
          "x": 0.14300000000000004,
          "xanchor": "center",
          "xref": "paper",
          "y": 1,
          "yanchor": "bottom",
          "yref": "paper"
         },
         {
          "font": {},
          "showarrow": false,
          "text": "facet_col=2016",
          "x": 0.24500000000000005,
          "xanchor": "center",
          "xref": "paper",
          "y": 1,
          "yanchor": "bottom",
          "yref": "paper"
         },
         {
          "font": {},
          "showarrow": false,
          "text": "facet_col=2017",
          "x": 0.3470000000000001,
          "xanchor": "center",
          "xref": "paper",
          "y": 1,
          "yanchor": "bottom",
          "yref": "paper"
         },
         {
          "font": {},
          "showarrow": false,
          "text": "facet_col=2018",
          "x": 0.44900000000000007,
          "xanchor": "center",
          "xref": "paper",
          "y": 1,
          "yanchor": "bottom",
          "yref": "paper"
         },
         {
          "font": {},
          "showarrow": false,
          "text": "facet_col=2019",
          "x": 0.5510000000000002,
          "xanchor": "center",
          "xref": "paper",
          "y": 1,
          "yanchor": "bottom",
          "yref": "paper"
         },
         {
          "font": {},
          "showarrow": false,
          "text": "facet_col=2020",
          "x": 0.6530000000000001,
          "xanchor": "center",
          "xref": "paper",
          "y": 1,
          "yanchor": "bottom",
          "yref": "paper"
         },
         {
          "font": {},
          "showarrow": false,
          "text": "facet_col=2021",
          "x": 0.7550000000000001,
          "xanchor": "center",
          "xref": "paper",
          "y": 1,
          "yanchor": "bottom",
          "yref": "paper"
         },
         {
          "font": {},
          "showarrow": false,
          "text": "facet_col=2022",
          "x": 0.8570000000000002,
          "xanchor": "center",
          "xref": "paper",
          "y": 1,
          "yanchor": "bottom",
          "yref": "paper"
         },
         {
          "font": {},
          "showarrow": false,
          "text": "facet_col=2023",
          "x": 0.9590000000000002,
          "xanchor": "center",
          "xref": "paper",
          "y": 1,
          "yanchor": "bottom",
          "yref": "paper"
         }
        ],
        "boxmode": "group",
        "legend": {
         "title": {
          "text": "daytime"
         },
         "tracegroupgap": 0
        },
        "margin": {
         "t": 60
        },
        "template": {
         "data": {
          "bar": [
           {
            "error_x": {
             "color": "#f2f5fa"
            },
            "error_y": {
             "color": "#f2f5fa"
            },
            "marker": {
             "line": {
              "color": "rgb(17,17,17)",
              "width": 0.5
             },
             "pattern": {
              "fillmode": "overlay",
              "size": 10,
              "solidity": 0.2
             }
            },
            "type": "bar"
           }
          ],
          "barpolar": [
           {
            "marker": {
             "line": {
              "color": "rgb(17,17,17)",
              "width": 0.5
             },
             "pattern": {
              "fillmode": "overlay",
              "size": 10,
              "solidity": 0.2
             }
            },
            "type": "barpolar"
           }
          ],
          "carpet": [
           {
            "aaxis": {
             "endlinecolor": "#A2B1C6",
             "gridcolor": "#506784",
             "linecolor": "#506784",
             "minorgridcolor": "#506784",
             "startlinecolor": "#A2B1C6"
            },
            "baxis": {
             "endlinecolor": "#A2B1C6",
             "gridcolor": "#506784",
             "linecolor": "#506784",
             "minorgridcolor": "#506784",
             "startlinecolor": "#A2B1C6"
            },
            "type": "carpet"
           }
          ],
          "choropleth": [
           {
            "colorbar": {
             "outlinewidth": 0,
             "ticks": ""
            },
            "type": "choropleth"
           }
          ],
          "contour": [
           {
            "colorbar": {
             "outlinewidth": 0,
             "ticks": ""
            },
            "colorscale": [
             [
              0,
              "#0d0887"
             ],
             [
              0.1111111111111111,
              "#46039f"
             ],
             [
              0.2222222222222222,
              "#7201a8"
             ],
             [
              0.3333333333333333,
              "#9c179e"
             ],
             [
              0.4444444444444444,
              "#bd3786"
             ],
             [
              0.5555555555555556,
              "#d8576b"
             ],
             [
              0.6666666666666666,
              "#ed7953"
             ],
             [
              0.7777777777777778,
              "#fb9f3a"
             ],
             [
              0.8888888888888888,
              "#fdca26"
             ],
             [
              1,
              "#f0f921"
             ]
            ],
            "type": "contour"
           }
          ],
          "contourcarpet": [
           {
            "colorbar": {
             "outlinewidth": 0,
             "ticks": ""
            },
            "type": "contourcarpet"
           }
          ],
          "heatmap": [
           {
            "colorbar": {
             "outlinewidth": 0,
             "ticks": ""
            },
            "colorscale": [
             [
              0,
              "#0d0887"
             ],
             [
              0.1111111111111111,
              "#46039f"
             ],
             [
              0.2222222222222222,
              "#7201a8"
             ],
             [
              0.3333333333333333,
              "#9c179e"
             ],
             [
              0.4444444444444444,
              "#bd3786"
             ],
             [
              0.5555555555555556,
              "#d8576b"
             ],
             [
              0.6666666666666666,
              "#ed7953"
             ],
             [
              0.7777777777777778,
              "#fb9f3a"
             ],
             [
              0.8888888888888888,
              "#fdca26"
             ],
             [
              1,
              "#f0f921"
             ]
            ],
            "type": "heatmap"
           }
          ],
          "heatmapgl": [
           {
            "colorbar": {
             "outlinewidth": 0,
             "ticks": ""
            },
            "colorscale": [
             [
              0,
              "#0d0887"
             ],
             [
              0.1111111111111111,
              "#46039f"
             ],
             [
              0.2222222222222222,
              "#7201a8"
             ],
             [
              0.3333333333333333,
              "#9c179e"
             ],
             [
              0.4444444444444444,
              "#bd3786"
             ],
             [
              0.5555555555555556,
              "#d8576b"
             ],
             [
              0.6666666666666666,
              "#ed7953"
             ],
             [
              0.7777777777777778,
              "#fb9f3a"
             ],
             [
              0.8888888888888888,
              "#fdca26"
             ],
             [
              1,
              "#f0f921"
             ]
            ],
            "type": "heatmapgl"
           }
          ],
          "histogram": [
           {
            "marker": {
             "pattern": {
              "fillmode": "overlay",
              "size": 10,
              "solidity": 0.2
             }
            },
            "type": "histogram"
           }
          ],
          "histogram2d": [
           {
            "colorbar": {
             "outlinewidth": 0,
             "ticks": ""
            },
            "colorscale": [
             [
              0,
              "#0d0887"
             ],
             [
              0.1111111111111111,
              "#46039f"
             ],
             [
              0.2222222222222222,
              "#7201a8"
             ],
             [
              0.3333333333333333,
              "#9c179e"
             ],
             [
              0.4444444444444444,
              "#bd3786"
             ],
             [
              0.5555555555555556,
              "#d8576b"
             ],
             [
              0.6666666666666666,
              "#ed7953"
             ],
             [
              0.7777777777777778,
              "#fb9f3a"
             ],
             [
              0.8888888888888888,
              "#fdca26"
             ],
             [
              1,
              "#f0f921"
             ]
            ],
            "type": "histogram2d"
           }
          ],
          "histogram2dcontour": [
           {
            "colorbar": {
             "outlinewidth": 0,
             "ticks": ""
            },
            "colorscale": [
             [
              0,
              "#0d0887"
             ],
             [
              0.1111111111111111,
              "#46039f"
             ],
             [
              0.2222222222222222,
              "#7201a8"
             ],
             [
              0.3333333333333333,
              "#9c179e"
             ],
             [
              0.4444444444444444,
              "#bd3786"
             ],
             [
              0.5555555555555556,
              "#d8576b"
             ],
             [
              0.6666666666666666,
              "#ed7953"
             ],
             [
              0.7777777777777778,
              "#fb9f3a"
             ],
             [
              0.8888888888888888,
              "#fdca26"
             ],
             [
              1,
              "#f0f921"
             ]
            ],
            "type": "histogram2dcontour"
           }
          ],
          "mesh3d": [
           {
            "colorbar": {
             "outlinewidth": 0,
             "ticks": ""
            },
            "type": "mesh3d"
           }
          ],
          "parcoords": [
           {
            "line": {
             "colorbar": {
              "outlinewidth": 0,
              "ticks": ""
             }
            },
            "type": "parcoords"
           }
          ],
          "pie": [
           {
            "automargin": true,
            "type": "pie"
           }
          ],
          "scatter": [
           {
            "marker": {
             "line": {
              "color": "#283442"
             }
            },
            "type": "scatter"
           }
          ],
          "scatter3d": [
           {
            "line": {
             "colorbar": {
              "outlinewidth": 0,
              "ticks": ""
             }
            },
            "marker": {
             "colorbar": {
              "outlinewidth": 0,
              "ticks": ""
             }
            },
            "type": "scatter3d"
           }
          ],
          "scattercarpet": [
           {
            "marker": {
             "colorbar": {
              "outlinewidth": 0,
              "ticks": ""
             }
            },
            "type": "scattercarpet"
           }
          ],
          "scattergeo": [
           {
            "marker": {
             "colorbar": {
              "outlinewidth": 0,
              "ticks": ""
             }
            },
            "type": "scattergeo"
           }
          ],
          "scattergl": [
           {
            "marker": {
             "line": {
              "color": "#283442"
             }
            },
            "type": "scattergl"
           }
          ],
          "scattermapbox": [
           {
            "marker": {
             "colorbar": {
              "outlinewidth": 0,
              "ticks": ""
             }
            },
            "type": "scattermapbox"
           }
          ],
          "scatterpolar": [
           {
            "marker": {
             "colorbar": {
              "outlinewidth": 0,
              "ticks": ""
             }
            },
            "type": "scatterpolar"
           }
          ],
          "scatterpolargl": [
           {
            "marker": {
             "colorbar": {
              "outlinewidth": 0,
              "ticks": ""
             }
            },
            "type": "scatterpolargl"
           }
          ],
          "scatterternary": [
           {
            "marker": {
             "colorbar": {
              "outlinewidth": 0,
              "ticks": ""
             }
            },
            "type": "scatterternary"
           }
          ],
          "surface": [
           {
            "colorbar": {
             "outlinewidth": 0,
             "ticks": ""
            },
            "colorscale": [
             [
              0,
              "#0d0887"
             ],
             [
              0.1111111111111111,
              "#46039f"
             ],
             [
              0.2222222222222222,
              "#7201a8"
             ],
             [
              0.3333333333333333,
              "#9c179e"
             ],
             [
              0.4444444444444444,
              "#bd3786"
             ],
             [
              0.5555555555555556,
              "#d8576b"
             ],
             [
              0.6666666666666666,
              "#ed7953"
             ],
             [
              0.7777777777777778,
              "#fb9f3a"
             ],
             [
              0.8888888888888888,
              "#fdca26"
             ],
             [
              1,
              "#f0f921"
             ]
            ],
            "type": "surface"
           }
          ],
          "table": [
           {
            "cells": {
             "fill": {
              "color": "#506784"
             },
             "line": {
              "color": "rgb(17,17,17)"
             }
            },
            "header": {
             "fill": {
              "color": "#2a3f5f"
             },
             "line": {
              "color": "rgb(17,17,17)"
             }
            },
            "type": "table"
           }
          ]
         },
         "layout": {
          "annotationdefaults": {
           "arrowcolor": "#f2f5fa",
           "arrowhead": 0,
           "arrowwidth": 1
          },
          "autotypenumbers": "strict",
          "coloraxis": {
           "colorbar": {
            "outlinewidth": 0,
            "ticks": ""
           }
          },
          "colorscale": {
           "diverging": [
            [
             0,
             "#8e0152"
            ],
            [
             0.1,
             "#c51b7d"
            ],
            [
             0.2,
             "#de77ae"
            ],
            [
             0.3,
             "#f1b6da"
            ],
            [
             0.4,
             "#fde0ef"
            ],
            [
             0.5,
             "#f7f7f7"
            ],
            [
             0.6,
             "#e6f5d0"
            ],
            [
             0.7,
             "#b8e186"
            ],
            [
             0.8,
             "#7fbc41"
            ],
            [
             0.9,
             "#4d9221"
            ],
            [
             1,
             "#276419"
            ]
           ],
           "sequential": [
            [
             0,
             "#0d0887"
            ],
            [
             0.1111111111111111,
             "#46039f"
            ],
            [
             0.2222222222222222,
             "#7201a8"
            ],
            [
             0.3333333333333333,
             "#9c179e"
            ],
            [
             0.4444444444444444,
             "#bd3786"
            ],
            [
             0.5555555555555556,
             "#d8576b"
            ],
            [
             0.6666666666666666,
             "#ed7953"
            ],
            [
             0.7777777777777778,
             "#fb9f3a"
            ],
            [
             0.8888888888888888,
             "#fdca26"
            ],
            [
             1,
             "#f0f921"
            ]
           ],
           "sequentialminus": [
            [
             0,
             "#0d0887"
            ],
            [
             0.1111111111111111,
             "#46039f"
            ],
            [
             0.2222222222222222,
             "#7201a8"
            ],
            [
             0.3333333333333333,
             "#9c179e"
            ],
            [
             0.4444444444444444,
             "#bd3786"
            ],
            [
             0.5555555555555556,
             "#d8576b"
            ],
            [
             0.6666666666666666,
             "#ed7953"
            ],
            [
             0.7777777777777778,
             "#fb9f3a"
            ],
            [
             0.8888888888888888,
             "#fdca26"
            ],
            [
             1,
             "#f0f921"
            ]
           ]
          },
          "colorway": [
           "#636efa",
           "#EF553B",
           "#00cc96",
           "#ab63fa",
           "#FFA15A",
           "#19d3f3",
           "#FF6692",
           "#B6E880",
           "#FF97FF",
           "#FECB52"
          ],
          "font": {
           "color": "#f2f5fa"
          },
          "geo": {
           "bgcolor": "rgb(17,17,17)",
           "lakecolor": "rgb(17,17,17)",
           "landcolor": "rgb(17,17,17)",
           "showlakes": true,
           "showland": true,
           "subunitcolor": "#506784"
          },
          "hoverlabel": {
           "align": "left"
          },
          "hovermode": "closest",
          "mapbox": {
           "style": "dark"
          },
          "paper_bgcolor": "rgb(17,17,17)",
          "plot_bgcolor": "rgb(17,17,17)",
          "polar": {
           "angularaxis": {
            "gridcolor": "#506784",
            "linecolor": "#506784",
            "ticks": ""
           },
           "bgcolor": "rgb(17,17,17)",
           "radialaxis": {
            "gridcolor": "#506784",
            "linecolor": "#506784",
            "ticks": ""
           }
          },
          "scene": {
           "xaxis": {
            "backgroundcolor": "rgb(17,17,17)",
            "gridcolor": "#506784",
            "gridwidth": 2,
            "linecolor": "#506784",
            "showbackground": true,
            "ticks": "",
            "zerolinecolor": "#C8D4E3"
           },
           "yaxis": {
            "backgroundcolor": "rgb(17,17,17)",
            "gridcolor": "#506784",
            "gridwidth": 2,
            "linecolor": "#506784",
            "showbackground": true,
            "ticks": "",
            "zerolinecolor": "#C8D4E3"
           },
           "zaxis": {
            "backgroundcolor": "rgb(17,17,17)",
            "gridcolor": "#506784",
            "gridwidth": 2,
            "linecolor": "#506784",
            "showbackground": true,
            "ticks": "",
            "zerolinecolor": "#C8D4E3"
           }
          },
          "shapedefaults": {
           "line": {
            "color": "#f2f5fa"
           }
          },
          "sliderdefaults": {
           "bgcolor": "#C8D4E3",
           "bordercolor": "rgb(17,17,17)",
           "borderwidth": 1,
           "tickwidth": 0
          },
          "ternary": {
           "aaxis": {
            "gridcolor": "#506784",
            "linecolor": "#506784",
            "ticks": ""
           },
           "baxis": {
            "gridcolor": "#506784",
            "linecolor": "#506784",
            "ticks": ""
           },
           "bgcolor": "rgb(17,17,17)",
           "caxis": {
            "gridcolor": "#506784",
            "linecolor": "#506784",
            "ticks": ""
           }
          },
          "title": {
           "x": 0.05
          },
          "updatemenudefaults": {
           "bgcolor": "#506784",
           "borderwidth": 0
          },
          "xaxis": {
           "automargin": true,
           "gridcolor": "#283442",
           "linecolor": "#506784",
           "ticks": "",
           "title": {
            "standoff": 15
           },
           "zerolinecolor": "#283442",
           "zerolinewidth": 2
          },
          "yaxis": {
           "automargin": true,
           "gridcolor": "#283442",
           "linecolor": "#506784",
           "ticks": "",
           "title": {
            "standoff": 15
           },
           "zerolinecolor": "#283442",
           "zerolinewidth": 2
          }
         }
        },
        "xaxis": {
         "anchor": "y",
         "domain": [
          0,
          0.08200000000000002
         ]
        },
        "xaxis10": {
         "anchor": "y10",
         "domain": [
          0.9180000000000001,
          1
         ],
         "matches": "x"
        },
        "xaxis2": {
         "anchor": "y2",
         "domain": [
          0.10200000000000002,
          0.18400000000000005
         ],
         "matches": "x"
        },
        "xaxis3": {
         "anchor": "y3",
         "domain": [
          0.20400000000000004,
          0.28600000000000003
         ],
         "matches": "x"
        },
        "xaxis4": {
         "anchor": "y4",
         "domain": [
          0.30600000000000005,
          0.38800000000000007
         ],
         "matches": "x"
        },
        "xaxis5": {
         "anchor": "y5",
         "domain": [
          0.4080000000000001,
          0.4900000000000001
         ],
         "matches": "x"
        },
        "xaxis6": {
         "anchor": "y6",
         "domain": [
          0.5100000000000001,
          0.5920000000000001
         ],
         "matches": "x"
        },
        "xaxis7": {
         "anchor": "y7",
         "domain": [
          0.6120000000000001,
          0.6940000000000002
         ],
         "matches": "x"
        },
        "xaxis8": {
         "anchor": "y8",
         "domain": [
          0.7140000000000001,
          0.796
         ],
         "matches": "x"
        },
        "xaxis9": {
         "anchor": "y9",
         "domain": [
          0.8160000000000002,
          0.8980000000000001
         ],
         "matches": "x"
        },
        "yaxis": {
         "anchor": "x",
         "domain": [
          0,
          1
         ],
         "title": {
          "text": "Duration_minutes"
         }
        },
        "yaxis10": {
         "anchor": "x10",
         "domain": [
          0,
          1
         ],
         "matches": "y",
         "showticklabels": false
        },
        "yaxis2": {
         "anchor": "x2",
         "domain": [
          0,
          1
         ],
         "matches": "y",
         "showticklabels": false
        },
        "yaxis3": {
         "anchor": "x3",
         "domain": [
          0,
          1
         ],
         "matches": "y",
         "showticklabels": false
        },
        "yaxis4": {
         "anchor": "x4",
         "domain": [
          0,
          1
         ],
         "matches": "y",
         "showticklabels": false
        },
        "yaxis5": {
         "anchor": "x5",
         "domain": [
          0,
          1
         ],
         "matches": "y",
         "showticklabels": false
        },
        "yaxis6": {
         "anchor": "x6",
         "domain": [
          0,
          1
         ],
         "matches": "y",
         "showticklabels": false
        },
        "yaxis7": {
         "anchor": "x7",
         "domain": [
          0,
          1
         ],
         "matches": "y",
         "showticklabels": false
        },
        "yaxis8": {
         "anchor": "x8",
         "domain": [
          0,
          1
         ],
         "matches": "y",
         "showticklabels": false
        },
        "yaxis9": {
         "anchor": "x9",
         "domain": [
          0,
          1
         ],
         "matches": "y",
         "showticklabels": false
        }
       }
      }
     },
     "metadata": {},
     "output_type": "display_data"
    }
   ],
   "source": [
    "_df = df_training\n",
    "\n",
    "_fig = px.box(\n",
    "    _df,\n",
    "    y=_df.Duration_minutes,\n",
    "    template=THEME_PLOTLY,\n",
    "    color='daytime',\n",
    "    category_orders={'color': [\"morning\", \"day\", \"evening\"]},\n",
    "    points=\"outliers\",\n",
    "    # points=False,\n",
    "    facet_col=_df.TrainingDateTime.dt.year,\n",
    "    # height=300,\n",
    "    )\n",
    "_fig.show()"
   ]
  }
 ],
 "metadata": {
  "kernelspec": {
   "display_name": "base",
   "language": "python",
   "name": "python3"
  },
  "language_info": {
   "codemirror_mode": {
    "name": "ipython",
    "version": 3
   },
   "file_extension": ".py",
   "mimetype": "text/x-python",
   "name": "python",
   "nbconvert_exporter": "python",
   "pygments_lexer": "ipython3",
   "version": "3.10.12"
  }
 },
 "nbformat": 4,
 "nbformat_minor": 2
}
